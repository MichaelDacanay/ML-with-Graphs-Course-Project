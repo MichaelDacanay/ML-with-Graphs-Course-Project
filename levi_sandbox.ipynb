{
 "cells": [
  {
   "cell_type": "code",
   "execution_count": 1,
   "metadata": {},
   "outputs": [],
   "source": [
    "import numpy as np\n",
    "# Fake data feature:\n",
    "# quarter of the year [range(4)] (time of year dependency)\n",
    "# market capitalization $B (company size dependency)\n",
    "# industry [range(11)] of the SP500 sectors (type of company dependency)\n",
    "# PE ratio (expected growth dependency)\n",
    "# Analyst rating [range(3)] sell=0, hold=1, buy=2\n",
    "fake_features = [\n",
    "    (np.random.randint(0, 4),\n",
    "      np.random.randint(0, 100), \n",
    "      np.random.randint(0, 11), \n",
    "      np.random.randint(0, 100), \n",
    "      np.random.randint(0, 3)) for _ in range(10)\n",
    "]\n"
   ]
  },
  {
   "cell_type": "code",
   "execution_count": 2,
   "metadata": {},
   "outputs": [
    {
     "data": {
      "text/plain": [
       "[(3, 4, 10, 8, 2),\n",
       " (2, 13, 0, 56, 0),\n",
       " (2, 47, 6, 47, 0),\n",
       " (1, 9, 7, 60, 1),\n",
       " (0, 53, 2, 25, 1),\n",
       " (2, 70, 7, 80, 2),\n",
       " (3, 20, 10, 67, 0),\n",
       " (0, 3, 2, 98, 2),\n",
       " (0, 91, 8, 52, 2),\n",
       " (2, 20, 4, 62, 0)]"
      ]
     },
     "execution_count": 2,
     "metadata": {},
     "output_type": "execute_result"
    }
   ],
   "source": [
    "fake_features"
   ]
  },
  {
   "cell_type": "code",
   "execution_count": 9,
   "metadata": {},
   "outputs": [],
   "source": [
    "import torch\n",
    "from torch_geometric.data import Data\n",
    "\n",
    "# Nodes (companies) and their features\n",
    "# x = torch.tensor([feature_vector_for_company_1, feature_vector_for_company_2, ...], dtype=torch.float)\n",
    "x = torch.tensor(fake_features, dtype=torch.float)\n",
    "\n",
    "# Edge connections \n",
    "# edge_index = torch.tensor([\n",
    "#     [source_node_1, source_node_2, ...],\n",
    "#     [target_node_1, target_node_2, ...],\n",
    "# ], dtype=torch.long)\n",
    "edge_index = torch.tensor([\n",
    "    [0, 1, 2, 3, 4, 5, 6, 7, 8, 9],\n",
    "    [1, 0, 3, 2, 5, 4, 7, 6, 9, 8],\n",
    "], dtype=torch.long)\n",
    "\n",
    "# Labels for nodes (whether stock price will go up (1) or down (0))\n",
    "#y = torch.tensor([label_for_company_1, label_for_company_2, ...], dtype=torch.float)\n",
    "y = torch.tensor([\n",
    "    np.random.randint(0, 2) for _ in range(10)\n",
    "], dtype=torch.long)\n",
    "\n",
    "data = Data(x=x, edge_index=edge_index, y=y)\n"
   ]
  },
  {
   "cell_type": "code",
   "execution_count": 11,
   "metadata": {},
   "outputs": [
    {
     "name": "stdout",
     "output_type": "stream",
     "text": [
      "Node data shape: torch.Size([10, 5])\n",
      "Edge data shape: torch.Size([2, 10])\n",
      "Label data shape: torch.Size([10])\n"
     ]
    }
   ],
   "source": [
    "# Inspect the data shape\n",
    "print(f\"Node data shape: {x.shape}\")\n",
    "print(f\"Edge data shape: {edge_index.shape}\")\n",
    "print(f\"Label data shape: {y.shape}\")   \n",
    "data.num_classes = 1\n",
    "data.num_nodes = 10\n"
   ]
  },
  {
   "cell_type": "code",
   "execution_count": 12,
   "metadata": {},
   "outputs": [],
   "source": [
    "import torch.nn.functional as F\n",
    "from torch_geometric.nn import GCNConv\n",
    "\n",
    "class StockGNN(torch.nn.Module):\n",
    "    def __init__(self):\n",
    "        super().__init__()\n",
    "        self.conv1 = GCNConv(data.num_node_features, 3)  # 5 -> 3\n",
    "        self.conv2 = GCNConv(3, data.num_classes) # 3 -> 1\n",
    "\n",
    "    def forward(self, data):\n",
    "        x, edge_index = data.x, data.edge_index\n",
    "\n",
    "        x = self.conv1(x, edge_index)\n",
    "        x = F.relu(x)\n",
    "        x = F.dropout(x, training=self.training)\n",
    "        x = self.conv2(x, edge_index)\n",
    "\n",
    "        return F.log_softmax(x, dim=1)"
   ]
  },
  {
   "cell_type": "code",
   "execution_count": 15,
   "metadata": {},
   "outputs": [
    {
     "ename": "IndexError",
     "evalue": "Target 1 is out of bounds.",
     "output_type": "error",
     "traceback": [
      "\u001b[1;31m---------------------------------------------------------------------------\u001b[0m",
      "\u001b[1;31mIndexError\u001b[0m                                Traceback (most recent call last)",
      "\u001b[1;32mc:\\Users\\levi\\My Drive (lkenned@ncsu.edu)\\courses\\CSC791_038_GNN\\code\\ML-with-Graphs-Course-Project\\levi_sandbox.ipynb Cell 6\u001b[0m line \u001b[0;36m9\n\u001b[0;32m      <a href='vscode-notebook-cell:/c%3A/Users/levi/My%20Drive%20%28lkenned%40ncsu.edu%29/courses/CSC791_038_GNN/code/ML-with-Graphs-Course-Project/levi_sandbox.ipynb#W5sZmlsZQ%3D%3D?line=6'>7</a>\u001b[0m optimizer\u001b[39m.\u001b[39mzero_grad()\n\u001b[0;32m      <a href='vscode-notebook-cell:/c%3A/Users/levi/My%20Drive%20%28lkenned%40ncsu.edu%29/courses/CSC791_038_GNN/code/ML-with-Graphs-Course-Project/levi_sandbox.ipynb#W5sZmlsZQ%3D%3D?line=7'>8</a>\u001b[0m out \u001b[39m=\u001b[39m model(data)\n\u001b[1;32m----> <a href='vscode-notebook-cell:/c%3A/Users/levi/My%20Drive%20%28lkenned%40ncsu.edu%29/courses/CSC791_038_GNN/code/ML-with-Graphs-Course-Project/levi_sandbox.ipynb#W5sZmlsZQ%3D%3D?line=8'>9</a>\u001b[0m loss \u001b[39m=\u001b[39m F\u001b[39m.\u001b[39;49mnll_loss(out, data\u001b[39m.\u001b[39;49my)\n\u001b[0;32m     <a href='vscode-notebook-cell:/c%3A/Users/levi/My%20Drive%20%28lkenned%40ncsu.edu%29/courses/CSC791_038_GNN/code/ML-with-Graphs-Course-Project/levi_sandbox.ipynb#W5sZmlsZQ%3D%3D?line=9'>10</a>\u001b[0m loss\u001b[39m.\u001b[39mbackward()\n\u001b[0;32m     <a href='vscode-notebook-cell:/c%3A/Users/levi/My%20Drive%20%28lkenned%40ncsu.edu%29/courses/CSC791_038_GNN/code/ML-with-Graphs-Course-Project/levi_sandbox.ipynb#W5sZmlsZQ%3D%3D?line=10'>11</a>\u001b[0m optimizer\u001b[39m.\u001b[39mstep()\n",
      "File \u001b[1;32mc:\\Users\\levi\\My Drive (lkenned@ncsu.edu)\\courses\\CSC791_038_GNN\\code\\ML-with-Graphs-Course-Project\\.venv\\Lib\\site-packages\\torch\\nn\\functional.py:2729\u001b[0m, in \u001b[0;36mnll_loss\u001b[1;34m(input, target, weight, size_average, ignore_index, reduce, reduction)\u001b[0m\n\u001b[0;32m   2727\u001b[0m \u001b[39mif\u001b[39;00m size_average \u001b[39mis\u001b[39;00m \u001b[39mnot\u001b[39;00m \u001b[39mNone\u001b[39;00m \u001b[39mor\u001b[39;00m reduce \u001b[39mis\u001b[39;00m \u001b[39mnot\u001b[39;00m \u001b[39mNone\u001b[39;00m:\n\u001b[0;32m   2728\u001b[0m     reduction \u001b[39m=\u001b[39m _Reduction\u001b[39m.\u001b[39mlegacy_get_string(size_average, reduce)\n\u001b[1;32m-> 2729\u001b[0m \u001b[39mreturn\u001b[39;00m torch\u001b[39m.\u001b[39;49m_C\u001b[39m.\u001b[39;49m_nn\u001b[39m.\u001b[39;49mnll_loss_nd(\u001b[39minput\u001b[39;49m, target, weight, _Reduction\u001b[39m.\u001b[39;49mget_enum(reduction), ignore_index)\n",
      "\u001b[1;31mIndexError\u001b[0m: Target 1 is out of bounds."
     ]
    }
   ],
   "source": [
    "device = torch.device('cuda' if torch.cuda.is_available() else 'cpu')\n",
    "model = StockGNN()\n",
    "optimizer = torch.optim.Adam(model.parameters(), lr=0.01, weight_decay=5e-4)\n",
    "\n",
    "model.train()\n",
    "for epoch in range(10):\n",
    "    optimizer.zero_grad()\n",
    "    out = model(data)\n",
    "    loss = F.nll_loss(out, data.y)\n",
    "    loss.backward()\n",
    "    optimizer.step()"
   ]
  }
 ],
 "metadata": {
  "kernelspec": {
   "display_name": ".venv",
   "language": "python",
   "name": "python3"
  },
  "language_info": {
   "codemirror_mode": {
    "name": "ipython",
    "version": 3
   },
   "file_extension": ".py",
   "mimetype": "text/x-python",
   "name": "python",
   "nbconvert_exporter": "python",
   "pygments_lexer": "ipython3",
   "version": "3.11.0"
  }
 },
 "nbformat": 4,
 "nbformat_minor": 2
}
