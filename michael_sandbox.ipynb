{
 "cells": [
  {
   "cell_type": "markdown",
   "id": "fa40faf7-4d06-4885-8f91-635e3cba7532",
   "metadata": {},
   "source": [
    "# Variation of Earnings Beat or Earnings Miss Predictor\n",
    "\n",
    "Nodes: A stock/ticker in a specific time (MM/YYYY), features: price, EPS, etc.\n",
    "\n",
    "Edges: 2 kinds -- temporal and in the same plane (assume time is the same e.g. 04/2021). In the same plane, nodes are linked (edges formed) if owned by the same investor. Theoretically, edge is given a larger weight if multiple investors buy/own stock in the 2 connecting stock nodes and/or the purchase amount is large.\n"
   ]
  },
  {
   "cell_type": "code",
   "execution_count": 4,
   "id": "f3705e37-8b65-45d6-8241-df032295ab70",
   "metadata": {},
   "outputs": [],
   "source": [
    "import numpy as np\n",
    "import pandas as pd\n",
    "import matplotlib.pyplot as plt"
   ]
  },
  {
   "cell_type": "code",
   "execution_count": 5,
   "id": "0a589289-52e7-41e3-ace5-5ba3f3c6cd61",
   "metadata": {},
   "outputs": [
    {
     "data": {
      "text/html": [
       "<div>\n",
       "<style scoped>\n",
       "    .dataframe tbody tr th:only-of-type {\n",
       "        vertical-align: middle;\n",
       "    }\n",
       "\n",
       "    .dataframe tbody tr th {\n",
       "        vertical-align: top;\n",
       "    }\n",
       "\n",
       "    .dataframe thead th {\n",
       "        text-align: right;\n",
       "    }\n",
       "</style>\n",
       "<table border=\"1\" class=\"dataframe\">\n",
       "  <thead>\n",
       "    <tr style=\"text-align: right;\">\n",
       "      <th></th>\n",
       "      <th>Transaction Date</th>\n",
       "      <th>First Name</th>\n",
       "      <th>Last Name</th>\n",
       "      <th>Title</th>\n",
       "      <th>Symbol</th>\n",
       "      <th>Name</th>\n",
       "      <th>Transaction Total</th>\n",
       "      <th>Transaction</th>\n",
       "      <th>Note Text</th>\n",
       "    </tr>\n",
       "  </thead>\n",
       "  <tbody>\n",
       "    <tr>\n",
       "      <th>0</th>\n",
       "      <td>2021-04-30</td>\n",
       "      <td>Diana</td>\n",
       "      <td>Harshbarger</td>\n",
       "      <td>US Congressman</td>\n",
       "      <td>AEE</td>\n",
       "      <td>Ameren Corp</td>\n",
       "      <td>24002.0</td>\n",
       "      <td>Sell</td>\n",
       "      <td>By Director And Spouse. Traded $3,003 To $45,000</td>\n",
       "    </tr>\n",
       "    <tr>\n",
       "      <th>1</th>\n",
       "      <td>2021-04-30</td>\n",
       "      <td>Kathy</td>\n",
       "      <td>Manning</td>\n",
       "      <td>US Congressman</td>\n",
       "      <td>DIS</td>\n",
       "      <td>Walt Disney Co</td>\n",
       "      <td>8000.0</td>\n",
       "      <td>Sell</td>\n",
       "      <td>Traded $1,001 to $15,000</td>\n",
       "    </tr>\n",
       "    <tr>\n",
       "      <th>2</th>\n",
       "      <td>2021-04-30</td>\n",
       "      <td>Kathy</td>\n",
       "      <td>Manning</td>\n",
       "      <td>US Congressman</td>\n",
       "      <td>V</td>\n",
       "      <td>Visa Inc</td>\n",
       "      <td>8000.0</td>\n",
       "      <td>Sell</td>\n",
       "      <td>Traded $1,001 to $15,000</td>\n",
       "    </tr>\n",
       "    <tr>\n",
       "      <th>3</th>\n",
       "      <td>2021-04-30</td>\n",
       "      <td>Kathy</td>\n",
       "      <td>Manning</td>\n",
       "      <td>US Congressman</td>\n",
       "      <td>VTRS</td>\n",
       "      <td>Viatris Inc</td>\n",
       "      <td>8000.0</td>\n",
       "      <td>Sell</td>\n",
       "      <td>Traded $1,001 to $15,000</td>\n",
       "    </tr>\n",
       "    <tr>\n",
       "      <th>4</th>\n",
       "      <td>2021-04-30</td>\n",
       "      <td>Kathy</td>\n",
       "      <td>Manning</td>\n",
       "      <td>US Congressman</td>\n",
       "      <td>TJX</td>\n",
       "      <td>TJX Companies</td>\n",
       "      <td>8000.0</td>\n",
       "      <td>Sell</td>\n",
       "      <td>Traded $1,001 to $15,000</td>\n",
       "    </tr>\n",
       "  </tbody>\n",
       "</table>\n",
       "</div>"
      ],
      "text/plain": [
       "  Transaction Date First Name    Last Name           Title Symbol  \\\n",
       "0       2021-04-30      Diana  Harshbarger  US Congressman    AEE   \n",
       "1       2021-04-30      Kathy      Manning  US Congressman    DIS   \n",
       "2       2021-04-30      Kathy      Manning  US Congressman      V   \n",
       "3       2021-04-30      Kathy      Manning  US Congressman   VTRS   \n",
       "4       2021-04-30      Kathy      Manning  US Congressman    TJX   \n",
       "\n",
       "             Name  Transaction Total Transaction  \\\n",
       "0     Ameren Corp            24002.0        Sell   \n",
       "1  Walt Disney Co             8000.0        Sell   \n",
       "2        Visa Inc             8000.0        Sell   \n",
       "3     Viatris Inc             8000.0        Sell   \n",
       "4   TJX Companies             8000.0        Sell   \n",
       "\n",
       "                                           Note Text  \n",
       "0  By Director And Spouse. Traded $3,003 To $45,000   \n",
       "1                          Traded $1,001 to $15,000   \n",
       "2                          Traded $1,001 to $15,000   \n",
       "3                          Traded $1,001 to $15,000   \n",
       "4                          Traded $1,001 to $15,000   "
      ]
     },
     "execution_count": 5,
     "metadata": {},
     "output_type": "execute_result"
    }
   ],
   "source": [
    "file_path = './data/politician-insider-trading-activity-apr-2021.csv'\n",
    "df = pd.read_csv(file_path)\n",
    "df.head()"
   ]
  },
  {
   "cell_type": "code",
   "execution_count": 6,
   "id": "99d4dfdd-64a7-46e2-b885-cf7599494968",
   "metadata": {},
   "outputs": [],
   "source": [
    "MONTHS = ['jan', 'feb', 'mar', 'apr', 'may', 'jun', 'jul', 'aug', 'sep', 'oct', 'nov', 'dec']\n",
    "YEARS = ['2020', '2021', '2022', '2023']"
   ]
  },
  {
   "cell_type": "code",
   "execution_count": 7,
   "id": "6859cd24-0e94-4f4f-9a6a-4f29236d2bac",
   "metadata": {},
   "outputs": [],
   "source": [
    "# Company lists\n",
    "dow_list = ['axp', 'amgn', 'aapl', 'ba', 'cat', 'cvx', 'csco', 'ko', 'dow', 'gs', 'hd', 'hon', 'ibm', 'intc', 'jnj', 'jpm', 'mcd', 'mmm', 'mrk', 'msft', 'nke', 'pg', 'crm', 'trv', 'utx', 'vz', 'v', 'wba', 'wmt', 'dis']\n",
    "# Create a list of the ticker symbols for the S&P 500 companies\n",
    "sp500_list = ['a', 'aapl', 'abbv', 'abt', 'acn', 'adbe', 'aig', 'all', 'amgn', 'amzn', 'axp', 'ba', 'bac', 'biib', 'bk', 'bkng', 'blk', 'bmy', 'brk.b', 'bsx', 'cat', 'chtr', 'cl', 'cmcsa', 'cof', 'cop', 'cost', 'crm', 'csco', 'cvx', 'dhr', 'dis', 'dow', 'duke', 'emr', 'exc', 'f', 'fb', 'fdx', 'gd', 'ge', 'gild', 'gm', 'goog', 'googl', 'gs', 'hd', 'hon', 'ibm', 'intc', 'jnj', 'jpm', 'kmi', 'ko', 'lly', 'lmt', 'low', 'ma', 'mcd', 'mdlz', 'met', 'microsoft', 'mmm', 'mo', 'mrk', 'ms', 'msft', 'nflx', 'nke', 'nvda', 'orcl', 'pep', 'pfe', 'pg', 'pm', 'pypl', 'qcom', 'crm', 'sbux', 'slb', 'so', 'spg', 't', 'tgt', 'tmo', 'tpr', 'trv', 'tsla', 'txn', 'unh', 'unp', 'ups', 'usb', 'v', 'vz', 'wba', 'wfc', 'wmt', 'xom']\n",
    "# Create a list of the ticker symbols for the NASDAQ 100 companies\n",
    "nasdaq100_list = ['aapl', 'adbe', 'adi', 'adp', 'adsk', 'alxn', 'amat', 'amd', 'amgn', 'amzn', 'asml', 'atvi', 'avgo', 'bidu', 'biib', 'bkng', 'bmrn', 'bngo', 'cdns', 'celg', 'cern', 'chkp', 'chtr', 'cmcsa', 'cost', 'csco', 'csct', 'ctas', 'ctrp', 'ctsh', 'ctxs', 'dltr', 'ea', 'ebay', 'esrx', 'fast', 'fb', 'fisv', 'fox', 'foxa', 'gild', 'goog', 'googl', 'has', 'hsic', 'idxx', 'ilmn', 'incy', 'intc', 'intu', 'isrg', 'jd', 'khc', 'klac', 'lbtya', 'lbtym', 'liberty', 'lrcx', 'mar', 'mat', 'mchp', 'mdlz', 'meli', 'mnst', 'msft', 'mu', 'mxim', 'myl', 'nclh', 'nflx', 'ntap', 'ntes', 'nvda', 'nxpi', 'orly', 'payx', 'pcar', 'pypl', 'qcom', 'regn', 'rost', 'sbux', 'sirius', 'swks', 'symc', 'tmus', 'trip', 'tsco', 'tsem', 'txn', 'ulta', 'vrtx', 'vrsn', 'vrtx', 'wdc', 'wday', 'wltw', 'wynn', 'xlnx', 'xray', 'zm']\n"
   ]
  },
  {
   "cell_type": "code",
   "execution_count": 11,
   "id": "fb761717-9370-41c3-b335-36e472c208d4",
   "metadata": {},
   "outputs": [
    {
     "ename": "ModuleNotFoundError",
     "evalue": "No module named 'sentence_transformers'",
     "output_type": "error",
     "traceback": [
      "\u001b[0;31m---------------------------------------------------------------------------\u001b[0m",
      "\u001b[0;31mModuleNotFoundError\u001b[0m                       Traceback (most recent call last)",
      "Cell \u001b[0;32mIn[11], line 12\u001b[0m\n\u001b[1;32m     10\u001b[0m \u001b[38;5;28;01mimport\u001b[39;00m \u001b[38;5;21;01mrequests\u001b[39;00m\n\u001b[1;32m     11\u001b[0m \u001b[38;5;28;01mimport\u001b[39;00m \u001b[38;5;21;01mdatetime\u001b[39;00m \u001b[38;5;28;01mas\u001b[39;00m \u001b[38;5;21;01mdt\u001b[39;00m\n\u001b[0;32m---> 12\u001b[0m \u001b[38;5;28;01mfrom\u001b[39;00m \u001b[38;5;21;01msentence_transformers\u001b[39;00m \u001b[38;5;28;01mimport\u001b[39;00m SentenceTransformer\n\u001b[1;32m     13\u001b[0m \u001b[38;5;28;01mfrom\u001b[39;00m \u001b[38;5;21;01msklearn\u001b[39;00m\u001b[38;5;21;01m.\u001b[39;00m\u001b[38;5;21;01mmetrics\u001b[39;00m\u001b[38;5;21;01m.\u001b[39;00m\u001b[38;5;21;01mpairwise\u001b[39;00m \u001b[38;5;28;01mimport\u001b[39;00m cosine_similarity\n\u001b[1;32m     14\u001b[0m \u001b[38;5;28;01mimport\u001b[39;00m \u001b[38;5;21;01mtime\u001b[39;00m\n",
      "\u001b[0;31mModuleNotFoundError\u001b[0m: No module named 'sentence_transformers'"
     ]
    }
   ],
   "source": [
    "import torch\n",
    "import torch.nn as nn\n",
    "import torch_geometric.nn as gnn\n",
    "import torch_geometric.data as gdata\n",
    "import numpy as np\n",
    "import h5py\n",
    "import os\n",
    "import matplotlib.pyplot as plt\n",
    "import seaborn as sns\n",
    "import requests\n",
    "import datetime as dt\n",
    "from sentence_transformers import SentenceTransformer\n",
    "from sklearn.metrics.pairwise import cosine_similarity\n",
    "import time\n",
    "from tqdm.notebook import tqdm\n",
    "from sklearn.metrics import confusion_matrix, classification_report\n",
    "import networkx as nx\n",
    "import matplotlib.pyplot as plt\n",
    "from sklearn.preprocessing import StandardScaler"
   ]
  },
  {
   "cell_type": "code",
   "execution_count": null,
   "id": "a7443fa8-ee70-45e4-a6ea-e2b1fc023ccc",
   "metadata": {},
   "outputs": [],
   "source": []
  },
  {
   "cell_type": "code",
   "execution_count": null,
   "id": "fdb87162-d13c-401c-a95b-f5180c178688",
   "metadata": {},
   "outputs": [],
   "source": []
  },
  {
   "cell_type": "code",
   "execution_count": null,
   "id": "394ab317-f053-47da-a71f-efc4c3811944",
   "metadata": {},
   "outputs": [],
   "source": []
  },
  {
   "cell_type": "code",
   "execution_count": null,
   "id": "edbf6549-4be7-4884-9648-740c74c0dddc",
   "metadata": {},
   "outputs": [],
   "source": []
  }
 ],
 "metadata": {
  "kernelspec": {
   "display_name": "Python 3 (ipykernel)",
   "language": "python",
   "name": "python3"
  },
  "language_info": {
   "codemirror_mode": {
    "name": "ipython",
    "version": 3
   },
   "file_extension": ".py",
   "mimetype": "text/x-python",
   "name": "python",
   "nbconvert_exporter": "python",
   "pygments_lexer": "ipython3",
   "version": "3.10.11"
  }
 },
 "nbformat": 4,
 "nbformat_minor": 5
}
